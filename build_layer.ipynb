{
 "cells": [
  {
   "cell_type": "markdown",
   "metadata": {},
   "source": [
    "## Layer creation form Scratch"
   ]
  },
  {
   "cell_type": "code",
   "execution_count": 1,
   "metadata": {},
   "outputs": [],
   "source": [
    "import numpy as np"
   ]
  },
  {
   "cell_type": "markdown",
   "metadata": {},
   "source": [
    "<h4>Set of inputs"
   ]
  },
  {
   "cell_type": "code",
   "execution_count": 2,
   "metadata": {},
   "outputs": [],
   "source": [
    "X = [[1, 2.2, 1.1, 5],     # sample of 4 inputs\n",
    "     [0.1, 4, 0.9, 3], \n",
    "     [4, 2.1, 0.5, 3.2]]"
   ]
  },
  {
   "cell_type": "markdown",
   "metadata": {},
   "source": [
    "<h4>Function to create a layer"
   ]
  },
  {
   "cell_type": "code",
   "execution_count": 9,
   "metadata": {},
   "outputs": [],
   "source": [
    "class Layer_Dense:\n",
    "    def __init__(self, n_inputs, n_neurons):          \n",
    "        # weights matrix is of n_inputs * n_neurons\n",
    "        self.weights = 0.1 * np.random.randn(n_inputs, n_neurons)\n",
    "        # biases will of same size of neurons we have\n",
    "        self.biases = np.zeros((1, n_neurons))\n",
    "\n",
    "    def forward(self, inputs):\n",
    "        # final output is going to be as (weights * inputs) + bias\n",
    "        self.output = np.dot(inputs, self.weights) + self.biases"
   ]
  },
  {
   "cell_type": "markdown",
   "metadata": {},
   "source": [
    "<h4>Creating Layer 1</h4>\n",
    "This layer has 4 input features and 5 neurons"
   ]
  },
  {
   "cell_type": "code",
   "execution_count": 14,
   "metadata": {},
   "outputs": [
    {
     "data": {
      "text/plain": [
       "array([[ 0.63751554,  0.9430127 , -0.1836171 ,  0.79741054,  0.20274097],\n",
       "       [ 0.34562905,  0.7252731 ,  0.23854477,  0.60415427, -0.39459177],\n",
       "       [ 0.67566891,  1.56821473, -0.72799394,  0.77227159, -0.08415547]])"
      ]
     },
     "execution_count": 14,
     "metadata": {},
     "output_type": "execute_result"
    }
   ],
   "source": [
    "layer1 = Layer_Dense(4, 5)\n",
    "layer1.forward(X)\n",
    "layer1.output"
   ]
  },
  {
   "cell_type": "markdown",
   "metadata": {},
   "source": [
    "## Creating Layer 2\n",
    "<p>Output of Layer 1 is input to Layer 2</p>\n",
    "So, it'll have 5 input and any number of neurons we can have."
   ]
  },
  {
   "cell_type": "code",
   "execution_count": 15,
   "metadata": {},
   "outputs": [
    {
     "data": {
      "text/plain": [
       "array([[ 0.10300898, -0.18369811],\n",
       "       [ 0.11121068, -0.12686659],\n",
       "       [ 0.10351049, -0.28803322]])"
      ]
     },
     "execution_count": 15,
     "metadata": {},
     "output_type": "execute_result"
    }
   ],
   "source": [
    "layer2 = Layer_Dense(5, 2)\n",
    "layer2.forward(layer1.output)\n",
    "layer2.output"
   ]
  },
  {
   "cell_type": "markdown",
   "metadata": {},
   "source": [
    "### This is a simple creation of 2 layer neural network. \n",
    "### We can create many such layers by feeding output of one layer as input to other layer"
   ]
  }
 ],
 "metadata": {
  "kernelspec": {
   "display_name": "Python 3",
   "language": "python",
   "name": "python3"
  },
  "language_info": {
   "codemirror_mode": {
    "name": "ipython",
    "version": 3
   },
   "file_extension": ".py",
   "mimetype": "text/x-python",
   "name": "python",
   "nbconvert_exporter": "python",
   "pygments_lexer": "ipython3",
   "version": "3.11.3"
  }
 },
 "nbformat": 4,
 "nbformat_minor": 2
}
